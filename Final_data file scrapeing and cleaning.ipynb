{
 "cells": [
  {
   "cell_type": "code",
   "execution_count": null,
   "id": "81129311",
   "metadata": {},
   "outputs": [],
   "source": [
    "import pandas as pd\n",
    "import numpy as np\n",
    "import time\n",
    "from bs4 import BeautifulSoup\n",
    "import requests "
   ]
  },
  {
   "cell_type": "markdown",
   "id": "08867643",
   "metadata": {},
   "source": [
    "Personal list needs to be organized as only directors are currently relevents"
   ]
  },
  {
   "cell_type": "code",
   "execution_count": null,
   "id": "33475dcf",
   "metadata": {},
   "outputs": [],
   "source": [
    "directors = pd.read_csv('data/zippedData/imdb.name.basics.csv.gz', compression = 'gzip')"
   ]
  },
  {
   "cell_type": "code",
   "execution_count": null,
   "id": "dbb83e00",
   "metadata": {},
   "outputs": [],
   "source": [
    "directors.head()"
   ]
  },
  {
   "cell_type": "code",
   "execution_count": null,
   "id": "119c5829",
   "metadata": {},
   "outputs": [],
   "source": [
    "#format profession to list\n",
    "directors['primary_profession'] = directors['primary_profession'].str.split(',').tolist()\n",
    "directors = directors.dropna(subset = ['primary_profession'])"
   ]
  },
  {
   "cell_type": "code",
   "execution_count": null,
   "id": "3b59741f",
   "metadata": {},
   "outputs": [],
   "source": [
    "#test for primary profession including director\n",
    "def is_director(dir_list):\n",
    "    if 'director' in dir_list:\n",
    "        return True;\n",
    "    else:\n",
    "        return False;\n",
    "\n",
    "directors['is_director'] = directors['primary_profession'].apply(is_director)"
   ]
  },
  {
   "cell_type": "code",
   "execution_count": null,
   "id": "9946593a",
   "metadata": {},
   "outputs": [],
   "source": [
    "#remove non directors\n",
    "directors = directors.loc[directors['is_director']==True]\n",
    "\n"
   ]
  },
  {
   "cell_type": "markdown",
   "id": "ef64db3f",
   "metadata": {},
   "source": [
    "Should filter out directors we lack suffiecent data about."
   ]
  },
  {
   "cell_type": "code",
   "execution_count": null,
   "id": "1d6b91ff",
   "metadata": {},
   "outputs": [],
   "source": [
    "#format known for titles to list\n",
    "directors['known_for_titles'] = directors['known_for_titles'].str.split(',').tolist()\n",
    "directors.head()"
   ]
  },
  {
   "cell_type": "code",
   "execution_count": null,
   "id": "b64ad62a",
   "metadata": {},
   "outputs": [],
   "source": [
    "#get directors by movie, remove Na\n",
    "title_crew = pd.read_csv('data/zippedData/imdb.title.crew.csv.gz',compression = 'gzip')\n",
    "title_crew = title_crew.dropna(subset = ['directors'])"
   ]
  },
  {
   "cell_type": "code",
   "execution_count": null,
   "id": "9cd8d8e1",
   "metadata": {},
   "outputs": [],
   "source": [
    "film_akas = pd.read_csv('data/zippedData/imdb.title.akas.csv.gz',compression = 'gzip')\n",
    "\n"
   ]
  },
  {
   "cell_type": "code",
   "execution_count": null,
   "id": "ccfafdf9",
   "metadata": {},
   "outputs": [],
   "source": [
    "#filter name information to only include original titles\n",
    "film_akas = film_akas.loc[film_akas['is_original_title'] == 1]\n",
    "film_akas.info()"
   ]
  },
  {
   "cell_type": "code",
   "execution_count": null,
   "id": "9ed9f1fe",
   "metadata": {},
   "outputs": [],
   "source": [
    "#remove data from title_crew not in film AKAS\n",
    "title_id_unique = set(film_akas['title_id'])\n",
    "def is_film_id(in_string):\n",
    "    if in_string in title_id_unique:\n",
    "        return True;\n",
    "    else:\n",
    "        return False\n",
    "\n",
    "\n",
    "title_crew['is_film'] = title_crew['tconst'].apply(is_film_id)\n",
    "title_crew = title_crew.loc[title_crew['is_film'] == True]"
   ]
  },
  {
   "cell_type": "code",
   "execution_count": null,
   "id": "997fa4bc",
   "metadata": {},
   "outputs": [],
   "source": [
    "#clean NaN values, reformat data\n",
    "title_crew = title_crew.dropna(subset=['directors'])\n",
    "title_crew = title_crew.explode('directors')"
   ]
  },
  {
   "cell_type": "code",
   "execution_count": null,
   "id": "cdde9193",
   "metadata": {},
   "outputs": [],
   "source": [
    "#remove directors from directors if not in title_crew\n",
    "title_crew_unique = set(title_crew['directors'])\n",
    "def is_movie_director(in_string):\n",
    "    if in_string in title_crew_unique:\n",
    "        return True;\n",
    "    else:\n",
    "        return False;\n",
    "\n",
    "\n",
    "directors['is_film_director'] = directors['nconst'].apply(is_movie_director)\n",
    "directors.head()\n",
    "directors.loc[directors['is_film_director']==True]\n",
    "\n"
   ]
  },
  {
   "cell_type": "markdown",
   "id": "ed104e20",
   "metadata": {},
   "source": [
    "merge formated director informaiton with monetary data"
   ]
  },
  {
   "cell_type": "code",
   "execution_count": null,
   "id": "22e3218e",
   "metadata": {},
   "outputs": [],
   "source": [
    "#get and format moentary information\n",
    "\n",
    "\n",
    "df = pd.read_csv('data/zippedData/tn.movie_budgets.csv.gz')\n",
    "df[\"production_budget\"] = df[\"production_budget\"].str.replace(\",\",\"\").str.replace(\"$\",\"\").astype(int)\n",
    "df[\"domestic_gross\"] = df[\"domestic_gross\"].str.replace(\",\",\"\").str.replace(\"$\",\"\").astype(int)\n",
    "df[\"worldwide_gross\"] = df[\"worldwide_gross\"].str.replace(\",\",\"\").str.replace(\"$\",\"\").astype(int)\n",
    "df['profit'] = df['worldwide_gross'] - df['production_budget']\n",
    "df['return_rate'] = df['profit']/df['production_budget']\n",
    "\n"
   ]
  },
  {
   "cell_type": "code",
   "execution_count": null,
   "id": "f719486b",
   "metadata": {},
   "outputs": [],
   "source": [
    "#format title information\n",
    "title_basics = pd.read_csv('data/zippedData/imdb.title.basics.csv.gz',compression = 'gzip')\n",
    "title_basics = title_basics.drop(['start_year','runtime_minutes','genres'], axis = 1)\n",
    "title_basics = title_basics.set_index('primary_title')\n",
    "title_basics.head()"
   ]
  },
  {
   "cell_type": "code",
   "execution_count": null,
   "id": "0fe6e416",
   "metadata": {},
   "outputs": [],
   "source": [
    "#translate movie name into index\n",
    "def get_tconst(primary_title):\n",
    "    if primary_title in title_basics.index:\n",
    "        return title_basics['tconst'][primary_title];\n",
    "    else:\n",
    "        return np.NaN;\n",
    "    \n",
    "\n",
    "\n",
    "df['tconst'] = df['movie'].apply(get_tconst)"
   ]
  },
  {
   "cell_type": "code",
   "execution_count": null,
   "id": "f9bfd937",
   "metadata": {},
   "outputs": [],
   "source": [
    "df = df.dropna(subset=['tconst'])\n",
    "df.info()\n",
    "\n"
   ]
  },
  {
   "cell_type": "code",
   "execution_count": null,
   "id": "6c1bd283",
   "metadata": {},
   "outputs": [],
   "source": [
    "title_crew = pd.read_csv('data/zippedData/imdb.title.crew.csv.gz',compression = 'gzip')\n",
    "title_crew = title_crew.dropna(subset = ['directors'])\n",
    "title_crew = title_crew.set_index('tconst')\n",
    "\n"
   ]
  },
  {
   "cell_type": "code",
   "execution_count": null,
   "id": "5690eb6d",
   "metadata": {},
   "outputs": [],
   "source": [
    "#use movie inde to get director index\n",
    "valid_tconst = title_crew.index.to_list();\n",
    "def get_nconst(t_value):\n",
    "    check = t_value\n",
    "    if type(t_value) == str:   \n",
    "        if check in valid_tconst:\n",
    "            return title_crew['directors'][t_value];\n",
    "        else:\n",
    "            return np.NaN;\n",
    "    else:\n",
    "        return np.NaN\n",
    "\n",
    "df['nconst'] = df['tconst'].apply(get_nconst)\n",
    "df = df.dropna(subset = ['nconst'])"
   ]
  },
  {
   "cell_type": "code",
   "execution_count": null,
   "id": "d2dd3dce",
   "metadata": {},
   "outputs": [],
   "source": [
    "#reformat director index\n",
    "df['nconst'] = df['nconst'].str.split(',').tolist()\n",
    "df.head()\n",
    "df = df.explode('nconst')\n",
    "df = df.dropna(subset = ['nconst'])"
   ]
  },
  {
   "cell_type": "code",
   "execution_count": null,
   "id": "ddefc5eb",
   "metadata": {},
   "outputs": [],
   "source": [
    "df = df.explode('nconst')\n",
    "df.head(6)"
   ]
  },
  {
   "cell_type": "code",
   "execution_count": null,
   "id": "7f08c995",
   "metadata": {},
   "outputs": [],
   "source": [
    "#fetch known for titles by director\n",
    "directors = directors.set_index('nconst')\n",
    "valid_nconst = directors.index.to_list();\n",
    "def get_known(n_value):\n",
    "    if type(n_value) == str:   \n",
    "        if n_value in valid_nconst:\n",
    "            return directors['known_for_titles'][n_value];\n",
    "        else:\n",
    "            return np.NaN;\n",
    "    else:\n",
    "        return np.NaN\n",
    "\n",
    "df['know_for_title'] = df['nconst'].apply(get_known)\n",
    "\n",
    "df = df.dropna(subset = ['know_for_title'])\n",
    "\n"
   ]
  },
  {
   "cell_type": "markdown",
   "id": "e720ca2f",
   "metadata": {},
   "source": [
    "retrieve ratings data, based on known movies list"
   ]
  },
  {
   "cell_type": "code",
   "execution_count": null,
   "id": "407ff9e0",
   "metadata": {},
   "outputs": [],
   "source": [
    "#get known ratingd for each known for title\n",
    "def get_ratings_1(in_list):\n",
    "    outlist = []\n",
    "\n",
    "    if in_list == 0:\n",
    "        return np.NaN\n",
    "    for i in in_list:\n",
    "        if i in ratings_valid:\n",
    "            in_out = ratings_valid['averagerating'][i];\n",
    "            has_movie = True\n",
    "        else:\n",
    "            in_out = i;\n",
    "        outlist.append(in_out)\n",
    "    return outlist;\n",
    "df['known_ratings'] = df['know_for_title'].apply(get_ratings_1)"
   ]
  },
  {
   "cell_type": "code",
   "execution_count": null,
   "id": "2eb8abdf",
   "metadata": {},
   "outputs": [],
   "source": [
    "df.loc[df['known_ratings']==0,'known_ratings']=np.NaN\n",
    "df = df.dropna(subset = ['known_ratings'])\n",
    "\n",
    "\n"
   ]
  },
  {
   "cell_type": "markdown",
   "id": "4ab3605c",
   "metadata": {},
   "source": [
    "Since movie ID corresponds that that movies IMDB page, the id can be used to construct a url to web scrape the data"
   ]
  },
  {
   "cell_type": "code",
   "execution_count": null,
   "id": "b3f25570",
   "metadata": {},
   "outputs": [],
   "source": [
    "#for unknown ratings, scrape the data from impb\n",
    "def scrape_rate(id_list):\n",
    "    out = []\n",
    "    try:\n",
    "        for i in id_list:\n",
    "            if i[0:2] == 'tt':\n",
    "                url = f'https://www.imdb.com/title/{i}/'\n",
    "                response = requests.get(url);\n",
    "                soup = BeautifulSoup(response.text, 'lxml')\n",
    "                title = soup.find('span', class_='AggregateRatingButton__RatingScore-sc-1il8omz-1 fhMjqK');\n",
    "                        #title = soup.find('h1',class_='TitleHeader__TitleText-sc-1wu6n3d-0 gxLYZW');\n",
    "                out.append(title.text)\n",
    "                time.sleep(0.5)\n",
    "            else:\n",
    "                out.append(i);\n",
    "        return out\n",
    "    except:\n",
    "        return np.NaN\n",
    "df['known_ratings'] = df['known_ratings'].apply(scrape_rate) "
   ]
  },
  {
   "cell_type": "code",
   "execution_count": null,
   "id": "b6893204",
   "metadata": {},
   "outputs": [],
   "source": [
    "df.to_csv('data/zippedData/Final_Data.csv.gz',compression = gzip);"
   ]
  },
  {
   "cell_type": "code",
   "execution_count": null,
   "id": "dc11a86c",
   "metadata": {},
   "outputs": [],
   "source": []
  },
  {
   "cell_type": "code",
   "execution_count": null,
   "id": "3dd34db9",
   "metadata": {},
   "outputs": [],
   "source": []
  },
  {
   "cell_type": "code",
   "execution_count": null,
   "id": "e6924f25",
   "metadata": {},
   "outputs": [],
   "source": []
  },
  {
   "cell_type": "code",
   "execution_count": null,
   "id": "f23abc4a",
   "metadata": {},
   "outputs": [],
   "source": []
  }
 ],
 "metadata": {
  "kernelspec": {
   "display_name": "Python 3",
   "language": "python",
   "name": "python3"
  },
  "language_info": {
   "codemirror_mode": {
    "name": "ipython",
    "version": 3
   },
   "file_extension": ".py",
   "mimetype": "text/x-python",
   "name": "python",
   "nbconvert_exporter": "python",
   "pygments_lexer": "ipython3",
   "version": "3.8.8"
  }
 },
 "nbformat": 4,
 "nbformat_minor": 5
}
