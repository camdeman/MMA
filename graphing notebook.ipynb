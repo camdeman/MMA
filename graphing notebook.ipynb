{
 "cells": [
  {
   "cell_type": "code",
   "execution_count": 1,
   "id": "9e18a47a",
   "metadata": {},
   "outputs": [],
   "source": [
    "import pandas as pd\n",
    "import numpy as np\n",
    "import time\n",
    "import matplotlib.pyplot as plt\n",
    "from matplotlib.lines import Line2D\n",
    "import seaborn as sns"
   ]
  },
  {
   "cell_type": "code",
   "execution_count": 2,
   "id": "1cceb93c",
   "metadata": {},
   "outputs": [
    {
     "name": "stdout",
     "output_type": "stream",
     "text": [
      "<class 'pandas.core.frame.DataFrame'>\n",
      "RangeIndex: 5782 entries, 0 to 5781\n",
      "Data columns (total 8 columns):\n",
      " #   Column             Non-Null Count  Dtype  \n",
      "---  ------             --------------  -----  \n",
      " 0   id                 5782 non-null   int64  \n",
      " 1   release_date       5782 non-null   object \n",
      " 2   movie              5782 non-null   object \n",
      " 3   production_budget  5782 non-null   int64  \n",
      " 4   domestic_gross     5782 non-null   int64  \n",
      " 5   worldwide_gross    5782 non-null   int64  \n",
      " 6   profit             5782 non-null   int64  \n",
      " 7   return_rate        5782 non-null   float64\n",
      "dtypes: float64(1), int64(5), object(2)\n",
      "memory usage: 361.5+ KB\n"
     ]
    },
    {
     "name": "stderr",
     "output_type": "stream",
     "text": [
      "<ipython-input-2-09543b13dc95>:2: FutureWarning: The default value of regex will change from True to False in a future version. In addition, single character regular expressions will*not* be treated as literal strings when regex=True.\n",
      "  df[\"production_budget\"] = df[\"production_budget\"].str.replace(\",\",\"\").str.replace(\"$\",\"\").astype(int)\n",
      "<ipython-input-2-09543b13dc95>:3: FutureWarning: The default value of regex will change from True to False in a future version. In addition, single character regular expressions will*not* be treated as literal strings when regex=True.\n",
      "  df[\"domestic_gross\"] = df[\"domestic_gross\"].str.replace(\",\",\"\").str.replace(\"$\",\"\").astype(int)\n",
      "<ipython-input-2-09543b13dc95>:4: FutureWarning: The default value of regex will change from True to False in a future version. In addition, single character regular expressions will*not* be treated as literal strings when regex=True.\n",
      "  df[\"worldwide_gross\"] = df[\"worldwide_gross\"].str.replace(\",\",\"\").str.replace(\"$\",\"\").astype(int)\n"
     ]
    }
   ],
   "source": [
    "df = pd.read_csv('data/zippedData/tn.movie_budgets.csv.gz')\n",
    "df[\"production_budget\"] = df[\"production_budget\"].str.replace(\",\",\"\").str.replace(\"$\",\"\").astype(int)\n",
    "df[\"domestic_gross\"] = df[\"domestic_gross\"].str.replace(\",\",\"\").str.replace(\"$\",\"\").astype(int)\n",
    "df[\"worldwide_gross\"] = df[\"worldwide_gross\"].str.replace(\",\",\"\").str.replace(\"$\",\"\").astype(int)\n",
    "df['profit'] = df['worldwide_gross'] - df['production_budget']\n",
    "df['return_rate'] = df['profit']/df['production_budget']\n",
    "df.info()"
   ]
  },
  {
   "cell_type": "code",
   "execution_count": 3,
   "id": "e43146d4",
   "metadata": {},
   "outputs": [
    {
     "data": {
      "text/html": [
       "<div>\n",
       "<style scoped>\n",
       "    .dataframe tbody tr th:only-of-type {\n",
       "        vertical-align: middle;\n",
       "    }\n",
       "\n",
       "    .dataframe tbody tr th {\n",
       "        vertical-align: top;\n",
       "    }\n",
       "\n",
       "    .dataframe thead th {\n",
       "        text-align: right;\n",
       "    }\n",
       "</style>\n",
       "<table border=\"1\" class=\"dataframe\">\n",
       "  <thead>\n",
       "    <tr style=\"text-align: right;\">\n",
       "      <th></th>\n",
       "      <th>tconst</th>\n",
       "      <th>primary_title</th>\n",
       "      <th>original_title</th>\n",
       "    </tr>\n",
       "  </thead>\n",
       "  <tbody>\n",
       "    <tr>\n",
       "      <th>0</th>\n",
       "      <td>tt0063540</td>\n",
       "      <td>Sunghursh</td>\n",
       "      <td>Sunghursh</td>\n",
       "    </tr>\n",
       "    <tr>\n",
       "      <th>1</th>\n",
       "      <td>tt0066787</td>\n",
       "      <td>One Day Before the Rainy Season</td>\n",
       "      <td>Ashad Ka Ek Din</td>\n",
       "    </tr>\n",
       "    <tr>\n",
       "      <th>2</th>\n",
       "      <td>tt0069049</td>\n",
       "      <td>The Other Side of the Wind</td>\n",
       "      <td>The Other Side of the Wind</td>\n",
       "    </tr>\n",
       "    <tr>\n",
       "      <th>3</th>\n",
       "      <td>tt0069204</td>\n",
       "      <td>Sabse Bada Sukh</td>\n",
       "      <td>Sabse Bada Sukh</td>\n",
       "    </tr>\n",
       "    <tr>\n",
       "      <th>4</th>\n",
       "      <td>tt0100275</td>\n",
       "      <td>The Wandering Soap Opera</td>\n",
       "      <td>La Telenovela Errante</td>\n",
       "    </tr>\n",
       "  </tbody>\n",
       "</table>\n",
       "</div>"
      ],
      "text/plain": [
       "      tconst                    primary_title              original_title\n",
       "0  tt0063540                        Sunghursh                   Sunghursh\n",
       "1  tt0066787  One Day Before the Rainy Season             Ashad Ka Ek Din\n",
       "2  tt0069049       The Other Side of the Wind  The Other Side of the Wind\n",
       "3  tt0069204                  Sabse Bada Sukh             Sabse Bada Sukh\n",
       "4  tt0100275         The Wandering Soap Opera       La Telenovela Errante"
      ]
     },
     "execution_count": 3,
     "metadata": {},
     "output_type": "execute_result"
    }
   ],
   "source": [
    "title_basics = pd.read_csv('data/zippedData/imdb.title.basics.csv.gz',compression = 'gzip')\n",
    "title_basics = title_basics.drop(['start_year','runtime_minutes','genres'], axis = 1)\n",
    "title_basics.head()"
   ]
  },
  {
   "cell_type": "code",
   "execution_count": 4,
   "id": "13adc254",
   "metadata": {},
   "outputs": [
    {
     "data": {
      "text/html": [
       "<div>\n",
       "<style scoped>\n",
       "    .dataframe tbody tr th:only-of-type {\n",
       "        vertical-align: middle;\n",
       "    }\n",
       "\n",
       "    .dataframe tbody tr th {\n",
       "        vertical-align: top;\n",
       "    }\n",
       "\n",
       "    .dataframe thead th {\n",
       "        text-align: right;\n",
       "    }\n",
       "</style>\n",
       "<table border=\"1\" class=\"dataframe\">\n",
       "  <thead>\n",
       "    <tr style=\"text-align: right;\">\n",
       "      <th></th>\n",
       "      <th>tconst</th>\n",
       "      <th>original_title</th>\n",
       "    </tr>\n",
       "    <tr>\n",
       "      <th>primary_title</th>\n",
       "      <th></th>\n",
       "      <th></th>\n",
       "    </tr>\n",
       "  </thead>\n",
       "  <tbody>\n",
       "    <tr>\n",
       "      <th>Sunghursh</th>\n",
       "      <td>tt0063540</td>\n",
       "      <td>Sunghursh</td>\n",
       "    </tr>\n",
       "    <tr>\n",
       "      <th>One Day Before the Rainy Season</th>\n",
       "      <td>tt0066787</td>\n",
       "      <td>Ashad Ka Ek Din</td>\n",
       "    </tr>\n",
       "    <tr>\n",
       "      <th>The Other Side of the Wind</th>\n",
       "      <td>tt0069049</td>\n",
       "      <td>The Other Side of the Wind</td>\n",
       "    </tr>\n",
       "    <tr>\n",
       "      <th>Sabse Bada Sukh</th>\n",
       "      <td>tt0069204</td>\n",
       "      <td>Sabse Bada Sukh</td>\n",
       "    </tr>\n",
       "    <tr>\n",
       "      <th>The Wandering Soap Opera</th>\n",
       "      <td>tt0100275</td>\n",
       "      <td>La Telenovela Errante</td>\n",
       "    </tr>\n",
       "  </tbody>\n",
       "</table>\n",
       "</div>"
      ],
      "text/plain": [
       "                                    tconst              original_title\n",
       "primary_title                                                         \n",
       "Sunghursh                        tt0063540                   Sunghursh\n",
       "One Day Before the Rainy Season  tt0066787             Ashad Ka Ek Din\n",
       "The Other Side of the Wind       tt0069049  The Other Side of the Wind\n",
       "Sabse Bada Sukh                  tt0069204             Sabse Bada Sukh\n",
       "The Wandering Soap Opera         tt0100275       La Telenovela Errante"
      ]
     },
     "execution_count": 4,
     "metadata": {},
     "output_type": "execute_result"
    }
   ],
   "source": [
    "title_basics = title_basics.set_index('primary_title')\n",
    "title_basics.head()"
   ]
  },
  {
   "cell_type": "code",
   "execution_count": 5,
   "id": "2ca21c48",
   "metadata": {},
   "outputs": [],
   "source": [
    "def get_tconst(primary_title):\n",
    "    if primary_title in title_basics.index:\n",
    "        return title_basics['tconst'][primary_title];\n",
    "    else:\n",
    "        return np.NaN;\n",
    "    \n",
    "\n",
    "\n",
    "df['tconst'] = df['movie'].apply(get_tconst)"
   ]
  },
  {
   "cell_type": "code",
   "execution_count": 6,
   "id": "51d81536",
   "metadata": {},
   "outputs": [
    {
     "name": "stdout",
     "output_type": "stream",
     "text": [
      "<class 'pandas.core.frame.DataFrame'>\n",
      "Int64Index: 2376 entries, 0 to 5780\n",
      "Data columns (total 9 columns):\n",
      " #   Column             Non-Null Count  Dtype  \n",
      "---  ------             --------------  -----  \n",
      " 0   id                 2376 non-null   int64  \n",
      " 1   release_date       2376 non-null   object \n",
      " 2   movie              2376 non-null   object \n",
      " 3   production_budget  2376 non-null   int64  \n",
      " 4   domestic_gross     2376 non-null   int64  \n",
      " 5   worldwide_gross    2376 non-null   int64  \n",
      " 6   profit             2376 non-null   int64  \n",
      " 7   return_rate        2376 non-null   float64\n",
      " 8   tconst             2376 non-null   object \n",
      "dtypes: float64(1), int64(5), object(3)\n",
      "memory usage: 185.6+ KB\n"
     ]
    }
   ],
   "source": [
    "df = df.dropna(subset=['tconst'])\n",
    "df.info()\n",
    "\n"
   ]
  },
  {
   "cell_type": "code",
   "execution_count": 7,
   "id": "dc19f438",
   "metadata": {},
   "outputs": [
    {
     "data": {
      "text/html": [
       "<div>\n",
       "<style scoped>\n",
       "    .dataframe tbody tr th:only-of-type {\n",
       "        vertical-align: middle;\n",
       "    }\n",
       "\n",
       "    .dataframe tbody tr th {\n",
       "        vertical-align: top;\n",
       "    }\n",
       "\n",
       "    .dataframe thead th {\n",
       "        text-align: right;\n",
       "    }\n",
       "</style>\n",
       "<table border=\"1\" class=\"dataframe\">\n",
       "  <thead>\n",
       "    <tr style=\"text-align: right;\">\n",
       "      <th></th>\n",
       "      <th>directors</th>\n",
       "      <th>writers</th>\n",
       "    </tr>\n",
       "    <tr>\n",
       "      <th>tconst</th>\n",
       "      <th></th>\n",
       "      <th></th>\n",
       "    </tr>\n",
       "  </thead>\n",
       "  <tbody>\n",
       "    <tr>\n",
       "      <th>tt0285252</th>\n",
       "      <td>nm0899854</td>\n",
       "      <td>nm0899854</td>\n",
       "    </tr>\n",
       "    <tr>\n",
       "      <th>tt0462036</th>\n",
       "      <td>nm1940585</td>\n",
       "      <td>nm1940585</td>\n",
       "    </tr>\n",
       "    <tr>\n",
       "      <th>tt0835418</th>\n",
       "      <td>nm0151540</td>\n",
       "      <td>nm0310087,nm0841532</td>\n",
       "    </tr>\n",
       "    <tr>\n",
       "      <th>tt0878654</th>\n",
       "      <td>nm0089502,nm2291498,nm2292011</td>\n",
       "      <td>nm0284943</td>\n",
       "    </tr>\n",
       "    <tr>\n",
       "      <th>tt0879859</th>\n",
       "      <td>nm2416460</td>\n",
       "      <td>NaN</td>\n",
       "    </tr>\n",
       "  </tbody>\n",
       "</table>\n",
       "</div>"
      ],
      "text/plain": [
       "                               directors              writers\n",
       "tconst                                                       \n",
       "tt0285252                      nm0899854            nm0899854\n",
       "tt0462036                      nm1940585            nm1940585\n",
       "tt0835418                      nm0151540  nm0310087,nm0841532\n",
       "tt0878654  nm0089502,nm2291498,nm2292011            nm0284943\n",
       "tt0879859                      nm2416460                  NaN"
      ]
     },
     "execution_count": 7,
     "metadata": {},
     "output_type": "execute_result"
    }
   ],
   "source": [
    "title_crew = pd.read_csv('data/zippedData/imdb.title.crew.csv.gz',compression = 'gzip')\n",
    "title_crew = title_crew.dropna(subset = ['directors'])\n",
    "title_crew = title_crew.set_index('tconst')\n",
    "title_crew.head()"
   ]
  },
  {
   "cell_type": "code",
   "execution_count": 8,
   "id": "c6cf6bf5",
   "metadata": {},
   "outputs": [],
   "source": [
    "valid_tconst = title_crew.index.to_list();\n",
    "def get_nconst(t_value):\n",
    "    check = t_value\n",
    "    if type(t_value) == str:   \n",
    "        if check in valid_tconst:\n",
    "            return title_crew['directors'][t_value];\n",
    "        else:\n",
    "            return np.NaN;\n",
    "    else:\n",
    "        return np.NaN\n",
    "\n",
    "df['nconst'] = df['tconst'].apply(get_nconst)\n",
    "df = df.dropna(subset = ['nconst'])"
   ]
  },
  {
   "cell_type": "code",
   "execution_count": 11,
   "id": "f071ac83",
   "metadata": {},
   "outputs": [
    {
     "name": "stdout",
     "output_type": "stream",
     "text": [
      "<class 'pandas.core.frame.DataFrame'>\n",
      "Index: 606648 entries, nm0061671 to nm9993380\n",
      "Data columns (total 5 columns):\n",
      " #   Column              Non-Null Count   Dtype  \n",
      "---  ------              --------------   -----  \n",
      " 0   primary_name        606648 non-null  object \n",
      " 1   birth_year          82736 non-null   float64\n",
      " 2   death_year          6783 non-null    float64\n",
      " 3   primary_profession  555308 non-null  object \n",
      " 4   known_for_titles    576444 non-null  object \n",
      "dtypes: float64(2), object(3)\n",
      "memory usage: 27.8+ MB\n"
     ]
    }
   ],
   "source": [
    "personal_data = pd.read_csv('data/zippedData/imdb.name.basics.csv.gz',compression = 'gzip')\n",
    "personal_data = personal_data.set_index('nconst')\n",
    "personal_data.head()\n",
    "personal_data.info()"
   ]
  },
  {
   "cell_type": "code",
   "execution_count": 12,
   "id": "21905a61",
   "metadata": {},
   "outputs": [
    {
     "data": {
      "text/html": [
       "<div>\n",
       "<style scoped>\n",
       "    .dataframe tbody tr th:only-of-type {\n",
       "        vertical-align: middle;\n",
       "    }\n",
       "\n",
       "    .dataframe tbody tr th {\n",
       "        vertical-align: top;\n",
       "    }\n",
       "\n",
       "    .dataframe thead th {\n",
       "        text-align: right;\n",
       "    }\n",
       "</style>\n",
       "<table border=\"1\" class=\"dataframe\">\n",
       "  <thead>\n",
       "    <tr style=\"text-align: right;\">\n",
       "      <th></th>\n",
       "      <th>id</th>\n",
       "      <th>release_date</th>\n",
       "      <th>movie</th>\n",
       "      <th>production_budget</th>\n",
       "      <th>domestic_gross</th>\n",
       "      <th>worldwide_gross</th>\n",
       "      <th>profit</th>\n",
       "      <th>return_rate</th>\n",
       "      <th>tconst</th>\n",
       "      <th>nconst</th>\n",
       "      <th>name</th>\n",
       "    </tr>\n",
       "  </thead>\n",
       "  <tbody>\n",
       "    <tr>\n",
       "      <th>0</th>\n",
       "      <td>1</td>\n",
       "      <td>Dec 18, 2009</td>\n",
       "      <td>Avatar</td>\n",
       "      <td>425000000</td>\n",
       "      <td>760507625</td>\n",
       "      <td>2776345279</td>\n",
       "      <td>2351345279</td>\n",
       "      <td>5.532577</td>\n",
       "      <td>tt1775309</td>\n",
       "      <td>nm3786927</td>\n",
       "      <td>Atsushi Wada</td>\n",
       "    </tr>\n",
       "    <tr>\n",
       "      <th>1</th>\n",
       "      <td>2</td>\n",
       "      <td>May 20, 2011</td>\n",
       "      <td>Pirates of the Caribbean: On Stranger Tides</td>\n",
       "      <td>410600000</td>\n",
       "      <td>241063875</td>\n",
       "      <td>1045663875</td>\n",
       "      <td>635063875</td>\n",
       "      <td>1.546673</td>\n",
       "      <td>tt1298650</td>\n",
       "      <td>nm0551128</td>\n",
       "      <td>Rob Marshall</td>\n",
       "    </tr>\n",
       "    <tr>\n",
       "      <th>2</th>\n",
       "      <td>3</td>\n",
       "      <td>Jun 7, 2019</td>\n",
       "      <td>Dark Phoenix</td>\n",
       "      <td>350000000</td>\n",
       "      <td>42762350</td>\n",
       "      <td>149762350</td>\n",
       "      <td>-200237650</td>\n",
       "      <td>-0.572108</td>\n",
       "      <td>tt6565702</td>\n",
       "      <td>nm1334526</td>\n",
       "      <td>Simon Kinberg</td>\n",
       "    </tr>\n",
       "    <tr>\n",
       "      <th>3</th>\n",
       "      <td>4</td>\n",
       "      <td>May 1, 2015</td>\n",
       "      <td>Avengers: Age of Ultron</td>\n",
       "      <td>330600000</td>\n",
       "      <td>459005868</td>\n",
       "      <td>1403013963</td>\n",
       "      <td>1072413963</td>\n",
       "      <td>3.243841</td>\n",
       "      <td>tt2395427</td>\n",
       "      <td>nm0923736</td>\n",
       "      <td>Joss Whedon</td>\n",
       "    </tr>\n",
       "    <tr>\n",
       "      <th>6</th>\n",
       "      <td>7</td>\n",
       "      <td>Apr 27, 2018</td>\n",
       "      <td>Avengers: Infinity War</td>\n",
       "      <td>300000000</td>\n",
       "      <td>678815482</td>\n",
       "      <td>2048134200</td>\n",
       "      <td>1748134200</td>\n",
       "      <td>5.827114</td>\n",
       "      <td>tt4154756</td>\n",
       "      <td>nm0751577,nm0751648</td>\n",
       "      <td>NaN</td>\n",
       "    </tr>\n",
       "  </tbody>\n",
       "</table>\n",
       "</div>"
      ],
      "text/plain": [
       "   id  release_date                                        movie  \\\n",
       "0   1  Dec 18, 2009                                       Avatar   \n",
       "1   2  May 20, 2011  Pirates of the Caribbean: On Stranger Tides   \n",
       "2   3   Jun 7, 2019                                 Dark Phoenix   \n",
       "3   4   May 1, 2015                      Avengers: Age of Ultron   \n",
       "6   7  Apr 27, 2018                       Avengers: Infinity War   \n",
       "\n",
       "   production_budget  domestic_gross  worldwide_gross      profit  \\\n",
       "0          425000000       760507625       2776345279  2351345279   \n",
       "1          410600000       241063875       1045663875   635063875   \n",
       "2          350000000        42762350        149762350  -200237650   \n",
       "3          330600000       459005868       1403013963  1072413963   \n",
       "6          300000000       678815482       2048134200  1748134200   \n",
       "\n",
       "   return_rate     tconst               nconst           name  \n",
       "0     5.532577  tt1775309            nm3786927   Atsushi Wada  \n",
       "1     1.546673  tt1298650            nm0551128   Rob Marshall  \n",
       "2    -0.572108  tt6565702            nm1334526  Simon Kinberg  \n",
       "3     3.243841  tt2395427            nm0923736    Joss Whedon  \n",
       "6     5.827114  tt4154756  nm0751577,nm0751648            NaN  "
      ]
     },
     "execution_count": 12,
     "metadata": {},
     "output_type": "execute_result"
    }
   ],
   "source": [
    "valid_nconst = personal_data.index.to_list();\n",
    "def name(nconst):\n",
    "    if type(nconst) == str:   \n",
    "        if nconst in valid_nconst:\n",
    "            return personal_data['primary_name'][nconst];\n",
    "        else:\n",
    "            return np.NaN;\n",
    "    else:\n",
    "        return np.NaN\n",
    " \n",
    "df['name'] = df['nconst'].apply(name)\n",
    "df.head()"
   ]
  },
  {
   "cell_type": "code",
   "execution_count": 13,
   "id": "3778d3ae",
   "metadata": {},
   "outputs": [],
   "source": [
    "df['nconst'] = df['nconst'].str.split(',').tolist()\n",
    "df.head()\n",
    "df = df.explode('nconst')\n",
    "df = df.dropna(subset = ['nconst'])"
   ]
  },
  {
   "cell_type": "code",
   "execution_count": 31,
   "id": "6cb80dda",
   "metadata": {},
   "outputs": [],
   "source": [
    "\n",
    "#data falsely attributed avatar to wrong director\n",
    "df = df.drop([0])"
   ]
  },
  {
   "cell_type": "code",
   "execution_count": 32,
   "id": "40b31da0",
   "metadata": {},
   "outputs": [],
   "source": [
    "directors_group = df.groupby(by = 'name').mean()"
   ]
  },
  {
   "cell_type": "code",
   "execution_count": 33,
   "id": "a43d8f2d",
   "metadata": {},
   "outputs": [],
   "source": [
    "directors_group = directors_group.sort_values(by= 'profit',ascending = False)\n",
    "directors_group_top_profit = directors_group.head(20)"
   ]
  },
  {
   "cell_type": "code",
   "execution_count": 35,
   "id": "0cbe2c24",
   "metadata": {},
   "outputs": [
    {
     "data": {
      "text/plain": [
       "<matplotlib.legend.Legend at 0x7fe254ca7070>"
      ]
     },
     "execution_count": 35,
     "metadata": {},
     "output_type": "execute_result"
    },
    {
     "data": {
      "image/png": "[encoded data removed]",
      "text/plain": [
       "<Figure size 1440x720 with 1 Axes>"
      ]
     },
     "metadata": {
      "needs_background": "light"
     },
     "output_type": "display_data"
    }
   ],
   "source": [
    "# Plot a bar graph of the most common names \n",
    "fig, ax = plt.subplots(figsize = (20,10))\n",
    "\n",
    "color_index = ['limegreen','limegreen','indianred','indianred',\n",
    "               'indianred','blueviolet','blueviolet','salmon','c','c','c',\n",
    "               'indianred','blueviolet','indianred','indianred','blueviolet',\n",
    "               'indianred','limegreen','salmon','salmon']\n",
    "ax.bar(directors_group_top_profit.index, directors_group_top_profit['profit'],color = color_index)\n",
    "\n",
    "# Add labels for x and y axes\n",
    "ax.set_xlabel('Director', fontsize = 15)\n",
    "ax.set_ylabel('Average Profit (Billion $)', fontsize = 15)\n",
    "\n",
    "#setting color\n",
    "custom_lines = [Line2D([0], [0], color=\"limegreen\", lw=4),\n",
    "                Line2D([0], [0], color=\"indianred\", lw=4),\n",
    "                Line2D([0], [0], color=\"blueviolet\", lw=4),\n",
    "                Line2D([0], [0], color=\"c\", lw=4),\n",
    "                Line2D([0], [0], color =\"salmon\",lw=4)]\n",
    "\n",
    "# Add a title for the plot\n",
    "ax.set_title('Top 20 Directors by Average Profit', fontsize=15)\n",
    "\n",
    "ax.tick_params(axis='x', labelrotation = 90)\n",
    "\n",
    "# add a legend \n",
    "plt.legend(custom_lines, ['animation', 'Action-Adventure', 'Sci-fi Fantasy','Horror', 'Other'], fontsize=\"xx-large\") ###"
   ]
  },
  {
   "cell_type": "code",
   "execution_count": null,
   "id": "1453a9f7",
   "metadata": {},
   "outputs": [],
   "source": [
    "df = pd.read_csv('data/zippedData/Final_data.csv.gz',compression='gzip')"
   ]
  },
  {
   "cell_type": "code",
   "execution_count": null,
   "id": "195e6922",
   "metadata": {},
   "outputs": [],
   "source": [
    "#format string 'known_ratings' to list\n",
    "def to_int(in_string):\n",
    "    out = []\n",
    "    hold_string = in_string;\n",
    "    try:\n",
    "        if len(hold_string) == 2:\n",
    "            return np.NaN\n",
    "        elif len(hold_string) == 7:\n",
    "            int_val = in_string[2:5];\n",
    "            out.append(float(int_val));\n",
    "        elif len(hold_string) == 14:\n",
    "            int_val = in_string[2:5];\n",
    "            out.append (float(int_val));\n",
    "            int_val_2 = in_string[9:12]\n",
    "            out.append (float(int_val_2));\n",
    "        elif len(hold_string) == 21:\n",
    "            int_val = in_string[2:5];\n",
    "            out.append (float(int_val));\n",
    "            int_val_2 = in_string[9:12]\n",
    "            out.append (float(int_val_2));\n",
    "            int_val_3 = in_string[16:19];\n",
    "            out.append(float(int_val_3));\n",
    "        else:\n",
    "            int_val = in_string[2:5];\n",
    "            out.append (float(int_val));\n",
    "            int_val_2 = in_string[9:12]\n",
    "            out.append (float(int_val_2));\n",
    "            int_val_3 = in_string[16:19];\n",
    "            out.append (float(int_val_3));\n",
    "            int_val_4 = in_string[23:26];\n",
    "            out.append(float(int_val_4))\n",
    "        return out;\n",
    "    except:\n",
    "        return np.NaN;\n",
    "df['known_ratings'] = df['known_ratings'].apply(to_int)"
   ]
  },
  {
   "cell_type": "code",
   "execution_count": null,
   "id": "2e1e5070",
   "metadata": {},
   "outputs": [],
   "source": [
    "#calculate ratings statistics\n",
    "def get_avg(in_list):\n",
    "    return np.average(in_list);\n",
    "\n",
    "def get_max(in_list):\n",
    "    return np.amax(in_list);\n",
    "\n",
    "def get_min(in_list):\n",
    "    return np.amin(in_list);\n",
    "\n",
    "df['rate_avg'] = df['known_ratings'].apply(get_avg)\n",
    "df['rate_max'] = df['known_ratings'].apply(get_max)\n",
    "df['rate_min'] = df['known_ratings'].apply(get_min)"
   ]
  },
  {
   "cell_type": "code",
   "execution_count": null,
   "id": "5c1b9abe",
   "metadata": {},
   "outputs": [],
   "source": [
    "#group by director\n",
    "df_grouped = df.groupby(by=['nconst']).mean()\n",
    "df_grouped.head()"
   ]
  },
  {
   "cell_type": "code",
   "execution_count": null,
   "id": "a6e58ecd",
   "metadata": {},
   "outputs": [],
   "source": [
    "#create regression\n",
    "ax = sns.regplot(x='rate_avg', y = 'profit',data=df_grouped)"
   ]
  },
  {
   "cell_type": "code",
   "execution_count": null,
   "id": "56054b07",
   "metadata": {},
   "outputs": [],
   "source": []
  }
 ],
 "metadata": {
  "kernelspec": {
   "display_name": "Python 3",
   "language": "python",
   "name": "python3"
  },
  "language_info": {
   "codemirror_mode": {
    "name": "ipython",
    "version": 3
   },
   "file_extension": ".py",
   "mimetype": "text/x-python",
   "name": "python",
   "nbconvert_exporter": "python",
   "pygments_lexer": "ipython3",
   "version": "3.8.8"
  }
 },
 "nbformat": 4,
 "nbformat_minor": 5
}
